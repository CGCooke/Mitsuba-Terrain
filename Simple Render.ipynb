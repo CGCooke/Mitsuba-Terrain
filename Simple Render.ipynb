{
 "cells": [
  {
   "cell_type": "code",
   "execution_count": null,
   "id": "d742f8a1",
   "metadata": {},
   "outputs": [],
   "source": [
    "import drjit as dr\n",
    "import mitsuba as mi\n",
    "import numpy as np\n",
    "from PIL import Image\n",
    "mi.set_variant('llvm_ad_rgb')"
   ]
  },
  {
   "cell_type": "code",
   "execution_count": null,
   "id": "f9e16b1b",
   "metadata": {},
   "outputs": [],
   "source": [
    "meters_per_sample = 30\n",
    "num_samples = 60*60"
   ]
  },
  {
   "cell_type": "code",
   "execution_count": null,
   "id": "927f48b2",
   "metadata": {},
   "outputs": [],
   "source": [
    "def create_terrain_mesh(num_samples, meters_per_sample, DSM):\n",
    "    # Generate UV coordinates\n",
    "    U, V = dr.meshgrid(\n",
    "        dr.linspace(mi.Float, 0, 1, num_samples),\n",
    "        dr.linspace(mi.Float, 0, 1, num_samples),\n",
    "        indexing='ij'\n",
    "    )\n",
    "    texcoords = mi.Vector2f(U, V)\n",
    "    \n",
    "    # Generate vertex coordinates\n",
    "    X = num_samples * meters_per_sample * U\n",
    "    Y = num_samples * meters_per_sample * V\n",
    "    \n",
    "    DSM = np.rot90(DSM)\n",
    "    vertices = mi.Vector3f(X, Y, DSM.ravel())\n",
    "    \n",
    "    # Create two triangles per grid cell\n",
    "    faces_x, faces_y, faces_z = [], [], []\n",
    "    for i in range(num_samples - 1):\n",
    "        for j in range(num_samples - 1):\n",
    "            v00 = i * num_samples + j\n",
    "            v01 = v00 + 1\n",
    "            v10 = (i + 1) * num_samples + j\n",
    "            v11 = v10 + 1\n",
    "            \n",
    "            faces_x.extend([v00, v01])\n",
    "            faces_y.extend([v10, v10])\n",
    "            faces_z.extend([v01, v11])\n",
    "\n",
    "    # Assemble face buffer\n",
    "    faces = mi.Vector3u(faces_x, faces_y, faces_z)\n",
    "\n",
    "    # Instantiate the mesh object\n",
    "    mesh = mi.Mesh(\"terrain-mesh\", num_samples * num_samples, len(faces_x), has_vertex_texcoords=True)\n",
    "\n",
    "    # Set its buffers\n",
    "    mesh_params = mi.traverse(mesh)\n",
    "    mesh_params['vertex_positions'] = dr.ravel(vertices)\n",
    "    mesh_params['vertex_texcoords'] = dr.ravel(texcoords)\n",
    "    mesh_params['faces'] = dr.ravel(faces)\n",
    "    mesh_params.update()\n",
    "\n",
    "    return mesh"
   ]
  },
  {
   "cell_type": "code",
   "execution_count": null,
   "id": "63aa665b",
   "metadata": {},
   "outputs": [],
   "source": [
    "DSM = np.array(Image.open('N046E007/ALPSMLC30_N046E007_DSM.tif'))\n",
    "mesh = create_terrain_mesh(num_samples, meters_per_sample,DSM)\n",
    "mesh.write_ply('DSM.ply')"
   ]
  },
  {
   "cell_type": "code",
   "execution_count": null,
   "id": "a91fdfb5",
   "metadata": {},
   "outputs": [],
   "source": [
    "# Looking at the receiving plane, not looking through the lens\n",
    "'''\n",
    "sensor_to_world = mi.ScalarTransform4f.look_at(\n",
    "    target=[1800*30, 1800*30, 0],\n",
    "    origin=[1800*30, 1500*30, 40_000],\n",
    "    up=[0, 0, 1]\n",
    ")\n",
    "'''\n",
    "sensor_to_world = mi.ScalarTransform4f.translate([1800*30, 1800*30, 40_000]).rotate(axis=[1, 0, 0], angle=180).scale([1800*30, 1800*30, 1])\n",
    "\n",
    "sensor = {\n",
    "    'type': 'orthographic',\n",
    "    'near_clip': 1,\n",
    "    'far_clip': 250_000,\n",
    "    'to_world': sensor_to_world,\n",
    "    'sampler': {'type': 'ldsampler'},\n",
    "    'film': {\n",
    "        'type': 'hdrfilm',\n",
    "        'width': 1_000,\n",
    "        'height': 1_000,\n",
    "        'rfilter': { 'type': 'gaussian' },\n",
    "        'sample_border': True\n",
    "    },\n",
    "}\n",
    "\n",
    "scene = mi.load_dict({\n",
    "    'type': 'scene',\n",
    "    'sensor': sensor,\n",
    "    'integrator': {'type':'path'},\n",
    "    'DSM': {\n",
    "        'type': 'ply',\n",
    "        'id': 'DSM',\n",
    "        'filename': 'DSM.ply',\n",
    "        'bsdf': {\n",
    "            'type': 'diffuse',\n",
    "            'reflectance': { 'type': 'rgb', 'value': (0.5,0.5,0.5)}\n",
    "        },\n",
    "    },\n",
    "    'light': {\n",
    "           'type':'envmap',\n",
    "            'filename': 'abandoned_tank_farm_04.exr',\n",
    "            'to_world': mi.ScalarTransform4f.rotate(axis=(1, 0, 0), angle=90),\n",
    "    },\n",
    "})"
   ]
  },
  {
   "cell_type": "code",
   "execution_count": null,
   "id": "9110d2e2",
   "metadata": {},
   "outputs": [],
   "source": [
    "params = mi.traverse(scene)"
   ]
  },
  {
   "cell_type": "code",
   "execution_count": null,
   "id": "52220308",
   "metadata": {},
   "outputs": [],
   "source": [
    "image = mi.render(scene, params, spp = 1_024)\n",
    "bitmap = mi.util.convert_to_bitmap(image)"
   ]
  },
  {
   "cell_type": "code",
   "execution_count": null,
   "id": "394c4f8a",
   "metadata": {},
   "outputs": [],
   "source": [
    "bitmap.write('render.png')"
   ]
  }
 ],
 "metadata": {
  "kernelspec": {
   "display_name": "Python [conda env:Mitsuba-Terrain] *",
   "language": "python",
   "name": "conda-env-Mitsuba-Terrain-py"
  },
  "language_info": {
   "codemirror_mode": {
    "name": "ipython",
    "version": 3
   },
   "file_extension": ".py",
   "mimetype": "text/x-python",
   "name": "python",
   "nbconvert_exporter": "python",
   "pygments_lexer": "ipython3",
   "version": "3.11.0"
  }
 },
 "nbformat": 4,
 "nbformat_minor": 5
}
